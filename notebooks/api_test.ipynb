{
 "cells": [
  {
   "cell_type": "code",
   "execution_count": 1,
   "id": "9fdbaef8",
   "metadata": {},
   "outputs": [],
   "source": [
    "import pandas as pd\n",
    "import requests\n",
    "\n",
    "data = {'age': 19,\n",
    "         'workclass': 'Private',\n",
    "         'fnlgt': 149184,\n",
    "         'education': 'HS-grad',\n",
    "         'marital_status': 'Never-married',\n",
    "         'occupation': 'Prof-specialty',\n",
    "         'relationship': 'Not-in-family',\n",
    "         'race': 'White',\n",
    "         'sex': 'Male',\n",
    "         'hoursPerWeek': 60,\n",
    "         'nativeCountry': 'United-States'\n",
    "}\n",
    "\n",
    "local = \"http://127.0.0.1:8000\"\n",
    "aws = \"http://mlops-loadb-1vls10v8z56rd-8e8763d7d81b9439.elb.us-east-1.amazonaws.com:8000\""
   ]
  },
  {
   "cell_type": "code",
   "execution_count": 2,
   "id": "261a6fc4",
   "metadata": {},
   "outputs": [
    {
     "name": "stdout",
     "output_type": "stream",
     "text": [
      "Response code: 200\n",
      "Response body: {'prediction': '<=50K'}\n"
     ]
    }
   ],
   "source": [
    "r = requests.post(f'{aws}/', json=data)\n",
    "\n",
    "assert r.status_code == 200\n",
    "\n",
    "print(\"Response code: %s\" % r.status_code)\n",
    "print(\"Response body: %s\" % r.json())"
   ]
  },
  {
   "cell_type": "code",
   "execution_count": null,
   "id": "f5fced9b",
   "metadata": {},
   "outputs": [],
   "source": []
  }
 ],
 "metadata": {
  "kernelspec": {
   "display_name": "mlops_census",
   "language": "python",
   "name": "mlops_census"
  },
  "language_info": {
   "codemirror_mode": {
    "name": "ipython",
    "version": 3
   },
   "file_extension": ".py",
   "mimetype": "text/x-python",
   "name": "python",
   "nbconvert_exporter": "python",
   "pygments_lexer": "ipython3",
   "version": "3.8.16"
  }
 },
 "nbformat": 4,
 "nbformat_minor": 5
}
