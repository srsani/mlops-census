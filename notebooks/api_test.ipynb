{
 "cells": [
  {
   "cell_type": "code",
   "execution_count": 14,
   "id": "9fdbaef8",
   "metadata": {},
   "outputs": [],
   "source": [
    "import requests\n",
    "\n",
    "data = {'age': 19,\n",
    "         'workclass': 'Private',\n",
    "         'fnlgt': 149184,\n",
    "         'education': 'HS-grad',\n",
    "         'marital_status': 'Never-married',\n",
    "         'occupation': 'Prof-specialty',\n",
    "         'relationship': 'Not-in-family',\n",
    "         'race': 'White',\n",
    "         'sex': 'Male',\n",
    "         'hoursPerWeek': 60,\n",
    "         'nativeCountry': 'United-States'\n",
    "}\n",
    "\n",
    "local = \"http://127.0.0.1:8000\"\n",
    "aws = \"http://mlops-loadb-103hyin3qcqrm-38620e611b8de66e.elb.us-east-1.amazonaws.com:8000\""
   ]
  },
  {
   "cell_type": "code",
   "execution_count": 15,
   "id": "261a6fc4",
   "metadata": {},
   "outputs": [
    {
     "name": "stdout",
     "output_type": "stream",
     "text": [
      "Response code: 200\n",
      "Response body: {'prediction': ' <=50K'}\n"
     ]
    }
   ],
   "source": [
    "r = requests.post(f'{aws}/', json=data)\n",
    "\n",
    "assert r.status_code == 200\n",
    "\n",
    "print(\"Response code: %s\" % r.status_code)\n",
    "print(\"Response body: %s\" % r.json())"
   ]
  },
  {
   "cell_type": "code",
   "execution_count": null,
   "id": "1904359f",
   "metadata": {},
   "outputs": [],
   "source": []
  }
 ],
 "metadata": {
  "kernelspec": {
   "display_name": "Python 3 (ipykernel)",
   "language": "python",
   "name": "python3"
  },
  "language_info": {
   "codemirror_mode": {
    "name": "ipython",
    "version": 3
   },
   "file_extension": ".py",
   "mimetype": "text/x-python",
   "name": "python",
   "nbconvert_exporter": "python",
   "pygments_lexer": "ipython3",
   "version": "3.9.12"
  }
 },
 "nbformat": 4,
 "nbformat_minor": 5
}
